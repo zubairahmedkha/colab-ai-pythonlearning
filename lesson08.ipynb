{
  "nbformat": 4,
  "nbformat_minor": 0,
  "metadata": {
    "colab": {
      "provenance": [],
      "authorship_tag": "ABX9TyNbsMvLHyJeK0AOz2xdRvCo",
      "include_colab_link": true
    },
    "kernelspec": {
      "name": "python3",
      "display_name": "Python 3"
    },
    "language_info": {
      "name": "python"
    }
  },
  "cells": [
    {
      "cell_type": "markdown",
      "metadata": {
        "id": "view-in-github",
        "colab_type": "text"
      },
      "source": [
        "<a href=\"https://colab.research.google.com/github/zubairahmedkha/colab-ai-pythonlearning/blob/main/lesson08.ipynb\" target=\"_parent\"><img src=\"https://colab.research.google.com/assets/colab-badge.svg\" alt=\"Open In Colab\"/></a>"
      ]
    },
    {
      "cell_type": "code",
      "execution_count": null,
      "metadata": {
        "colab": {
          "base_uri": "https://localhost:8080/"
        },
        "id": "ftFL95N_vFxD",
        "outputId": "99a6762a-72e7-4847-81f6-87dfe640652f"
      },
      "outputs": [
        {
          "output_type": "stream",
          "name": "stdout",
          "text": [
            "28\n",
            "<class 'int'>\n",
            "['as_integer_ratio', 'bit_count', 'bit_length', 'conjugate', 'denominator', 'from_bytes', 'imag', 'numerator', 'real', 'to_bytes']\n"
          ]
        }
      ],
      "source": [
        "# prompt: age : int= 28\n",
        "# print(age)\n",
        "#  name: data-type =value\n",
        "# datatype= int,str,float,list,bool\n",
        "# dict , set\n",
        "age:int =     28\n",
        "print(age)\n",
        "type(age)\n",
        "print(type(age))\n",
        "#attribute =properties(i-e name)\n",
        "#methods =actions (coding)\n",
        "# objects have methods & attributes\n",
        "# age is an object belonging to int class\n",
        "print([i for i in dir(age ) if '__' not in i])\n",
        "\n"
      ]
    },
    {
      "cell_type": "code",
      "source": [
        "age = 5\n",
        "print(age)"
      ],
      "metadata": {
        "colab": {
          "base_uri": "https://localhost:8080/"
        },
        "id": "Y9d3wgmXxy60",
        "outputId": "aeadee82-2d82-4ec6-b29a-de319841e16a"
      },
      "execution_count": null,
      "outputs": [
        {
          "output_type": "stream",
          "name": "stdout",
          "text": [
            "5\n"
          ]
        }
      ]
    },
    {
      "cell_type": "code",
      "source": [
        "age1:int=5\n",
        "print(age1)\n",
        "age1 =10\n",
        "print(age1)"
      ],
      "metadata": {
        "colab": {
          "base_uri": "https://localhost:8080/"
        },
        "id": "swuwz7qj1Bsa",
        "outputId": "906e6ebf-2d8f-440f-8984-9c8ae1af025e"
      },
      "execution_count": null,
      "outputs": [
        {
          "output_type": "stream",
          "name": "stdout",
          "text": [
            "5\n",
            "10\n"
          ]
        }
      ]
    },
    {
      "cell_type": "code",
      "source": [],
      "metadata": {
        "id": "BjQc13cB3Zpc"
      },
      "execution_count": null,
      "outputs": []
    },
    {
      "cell_type": "code",
      "source": [
        "print(f\" Age = {age1}\")"
      ],
      "metadata": {
        "colab": {
          "base_uri": "https://localhost:8080/"
        },
        "id": "nxugoAY71ltP",
        "outputId": "d46cf4bf-4c15-4d87-9953-4b204d475b48"
      },
      "execution_count": null,
      "outputs": [
        {
          "output_type": "stream",
          "name": "stdout",
          "text": [
            " Age =10\n"
          ]
        }
      ]
    },
    {
      "cell_type": "code",
      "source": [
        "name:str = 'john'\n",
        "gnome_height : float = 5.11\n",
        "print(f\" name is ={name}\\n gnome hight ={gnome_height}\")\n"
      ],
      "metadata": {
        "colab": {
          "base_uri": "https://localhost:8080/"
        },
        "id": "K21sXoDR1pE3",
        "outputId": "65da1626-05ab-4c57-a8ba-7a9b330587ad"
      },
      "execution_count": null,
      "outputs": [
        {
          "output_type": "stream",
          "name": "stdout",
          "text": [
            " name is =john\n",
            " gnome hight =5.11\n"
          ]
        }
      ]
    },
    {
      "cell_type": "code",
      "source": [
        "score: int =1 # now score is 0\n",
        "print(score)"
      ],
      "metadata": {
        "colab": {
          "base_uri": "https://localhost:8080/"
        },
        "id": "l0YJNTlq3ccE",
        "outputId": "1e375b8c-427e-4e21-cb3d-dc41e7eed681"
      },
      "execution_count": null,
      "outputs": [
        {
          "output_type": "stream",
          "name": "stdout",
          "text": [
            "0\n"
          ]
        }
      ]
    },
    {
      "cell_type": "code",
      "source": [
        "score = score + 50 # now score is 50 .0 +50\n",
        "print(score)"
      ],
      "metadata": {
        "colab": {
          "base_uri": "https://localhost:8080/"
        },
        "id": "NpN-7pFM34k2",
        "outputId": "9a28fdaa-80ab-4ac2-b7d8-078bddcd446b"
      },
      "execution_count": null,
      "outputs": [
        {
          "output_type": "stream",
          "name": "stdout",
          "text": [
            "150\n"
          ]
        }
      ]
    },
    {
      "cell_type": "code",
      "source": [
        "score += 50 # now score is 100 .50 +50\n",
        "print(score)"
      ],
      "metadata": {
        "colab": {
          "base_uri": "https://localhost:8080/"
        },
        "id": "CkjabntY4ETs",
        "outputId": "229366bb-59b5-4d0c-c224-245d20a24cce"
      },
      "execution_count": null,
      "outputs": [
        {
          "output_type": "stream",
          "name": "stdout",
          "text": [
            "200\n"
          ]
        }
      ]
    },
    {
      "cell_type": "code",
      "source": [
        "my_score = 450\n",
        "my_score -= 50 # now score is 400 .450 -50\n",
        "print(my_score)\n",
        "\n"
      ],
      "metadata": {
        "colab": {
          "base_uri": "https://localhost:8080/"
        },
        "id": "753pqahd45t8",
        "outputId": "15752bda-bd41-460c-f722-3bfe3f4dff1e"
      },
      "execution_count": null,
      "outputs": [
        {
          "output_type": "stream",
          "name": "stdout",
          "text": [
            "400\n"
          ]
        }
      ]
    },
    {
      "cell_type": "code",
      "source": [
        "my_score *= 2 # now score is 800 .450 *2\n",
        "print(my_score)"
      ],
      "metadata": {
        "colab": {
          "base_uri": "https://localhost:8080/"
        },
        "id": "0AEnXiPq5OzA",
        "outputId": "a3652977-d995-4dc9-f3da-965517d5e401"
      },
      "execution_count": null,
      "outputs": [
        {
          "output_type": "stream",
          "name": "stdout",
          "text": [
            "800\n"
          ]
        }
      ]
    },
    {
      "cell_type": "code",
      "source": [
        "# prompt: write comments all above cell\n",
        "\n",
        "# Assign the integer value 28 to the variable 'age'.\n",
        "age:int =     28\n",
        "# Print the value of 'age'.\n",
        "print(age)\n",
        "# Print the data type of 'age'.\n",
        "type(age)\n",
        "print(type(age))\n",
        "# attribute = properties (e.g., name)\n",
        "# methods = actions (coding)\n",
        "# objects have methods & attributes\n",
        "# 'age' is an object belonging to the 'int' class\n",
        "# Print a list of attributes and methods of the 'age' object, excluding those with double underscores.\n",
        "print([i for i in dir(age ) if '__' not in i])\n",
        "\n",
        "\n",
        "# Reassign the variable 'age' with the integer value 5.\n",
        "age = 5\n",
        "# Print the updated value of 'age'.\n",
        "print(age)\n",
        "# Declare a variable 'age1' with type hinting as an integer and assign it the value 5.\n",
        "age1:int=5\n",
        "# Print the value of 'age1'.\n",
        "print(age1)\n",
        "# Reassign 'age1' with the value 10.\n",
        "age1 =10\n",
        "# Print the updated value of 'age1'.\n",
        "print(age1)\n",
        "# Print the value of 'age1' using an f-string.\n",
        "print(f\" Age = {age1}\")\n",
        "# Declare a variable 'name' with type hinting as a string and assign it the value 'john'.\n",
        "name:str = 'john'\n",
        "# Declare a variable 'gnome_height' with type hinting as a float and assign it the value 5.11.\n",
        "gnome_height : float = 5.11\n",
        "# Print the values of 'name' and 'gnome_height' using f-strings.\n",
        "print(f\" name is ={name}\\n gnome hight ={gnome_height}\")\n",
        "\n",
        "# Declare a variable 'score' with type hinting as an integer and assign it the value 1.\n",
        "score: int =1 # now score is 0\n",
        "# Print the value of 'score'.\n",
        "print(score)\n",
        "# Add 50 to the current value of 'score' and reassign it to 'score'.\n",
        "score = score + 50 # now score is 50 .0 +50\n",
        "# Print the updated value of 'score'.\n",
        "print(score)\n",
        "# Add 50 to the current value of 'score' using the shorthand += operator and reassign it to 'score'.\n",
        "score += 50 # now score is 100 .50 +50\n",
        "# Print the updated value of 'score'.\n",
        "print(score)\n",
        "# Declare a variable 'my_score' and assign it the value 450.\n",
        "my_score = 450\n",
        "# Subtract 50 from the current value of 'my_score' using the shorthand -= operator and reassign it to 'my_score'.\n",
        "my_score -= 50 # now score is 400 .450 -50\n",
        "# Print the updated value of 'my_score'.\n",
        "print(my_score)\n",
        "\n",
        "\n",
        "# Multiply the current value of 'my_score' by 2 using the shorthand *= operator and reassign it to 'my_score'.\n",
        "my_score *= 2 # now score is 800 .450 *2\n",
        "# Print the updated value of 'my_score'.\n",
        "print(my_score)\n"
      ],
      "metadata": {
        "colab": {
          "base_uri": "https://localhost:8080/"
        },
        "id": "wMwNNAAb5hsa",
        "outputId": "80cc4e35-2231-4e82-9456-1992755b315a"
      },
      "execution_count": null,
      "outputs": [
        {
          "output_type": "stream",
          "name": "stdout",
          "text": [
            "28\n",
            "<class 'int'>\n",
            "['as_integer_ratio', 'bit_count', 'bit_length', 'conjugate', 'denominator', 'from_bytes', 'imag', 'numerator', 'real', 'to_bytes']\n",
            "5\n",
            "5\n",
            "10\n",
            " Age = 10\n",
            " name is =john\n",
            " gnome hight =5.11\n",
            "1\n",
            "51\n",
            "101\n",
            "400\n",
            "800\n"
          ]
        }
      ]
    },
    {
      "cell_type": "code",
      "source": [
        "print(49/7)"
      ],
      "metadata": {
        "colab": {
          "base_uri": "https://localhost:8080/"
        },
        "id": "JoTuUbnc6ChT",
        "outputId": "3bc9b982-39d6-4552-c712-bb98a461e276"
      },
      "execution_count": null,
      "outputs": [
        {
          "output_type": "stream",
          "name": "stdout",
          "text": [
            "7.0\n"
          ]
        }
      ]
    },
    {
      "cell_type": "code",
      "source": [
        "dog_age =49/7\n",
        "print(f\"\"\" Dog age in human years is {dog_age}\n",
        " would be same age {dog_age}   \"\"\")"
      ],
      "metadata": {
        "colab": {
          "base_uri": "https://localhost:8080/"
        },
        "id": "AGJtEu3c6fme",
        "outputId": "f76033a4-3b14-498c-8e4a-e8555f5a6689"
      },
      "execution_count": null,
      "outputs": [
        {
          "output_type": "stream",
          "name": "stdout",
          "text": [
            " Dog age in human years is 7.0  \n",
            " would be same age7.0   \n"
          ]
        }
      ]
    },
    {
      "cell_type": "code",
      "source": [
        "# prompt: add comments above cells individually\n",
        "\n",
        "# Assign the integer value 28 to the variable 'age'.\n",
        "age:int =     28\n",
        "# Print the value of 'age'.\n",
        "print(age)\n",
        "# Print the data type of 'age'.\n",
        "type(age)\n",
        "print(type(age))\n",
        "# attribute = properties (e.g., name)\n",
        "# methods = actions (coding)\n",
        "# objects have methods & attributes\n",
        "# 'age' is an object belonging to the 'int' class\n",
        "# Print a list of attributes and methods of the 'age' object, excluding those with double underscores.\n",
        "print([i for i in dir(age ) if '__' not in i])\n",
        "\n",
        "\n",
        "# Reassign the variable 'age' with the integer value 5.\n",
        "age = 5\n",
        "# Print the updated value of 'age'.\n",
        "print(age)\n",
        "# Declare a variable 'age1' with type hinting as an integer and assign it the value 5.\n",
        "age1:int=5\n",
        "# Print the value of 'age1'.\n",
        "print(age1)\n",
        "# Reassign 'age1' with the value 10.\n",
        "age1 =10\n",
        "# Print the updated value of 'age1'.\n",
        "print(age1)\n",
        "# Print the value of 'age1' using an f-string.\n",
        "print(f\" Age = {age1}\")\n",
        "# Declare a variable 'name' with type hinting as a string and assign it the value 'john'.\n",
        "name:str = 'john'\n",
        "# Declare a variable 'gnome_height' with type hinting as a float and assign it the value 5.11.\n",
        "gnome_height : float = 5.11\n",
        "# Print the values of 'name' and 'gnome_height' using f-strings.\n",
        "print(f\" name is ={name}\\n gnome hight ={gnome_height}\")\n",
        "\n",
        "# Declare a variable 'score' with type hinting as an integer and assign it the value 1.\n",
        "score: int =1 # now score is 0\n",
        "# Print the value of 'score'.\n",
        "print(score)\n",
        "# Add 50 to the current value of 'score' and reassign it to 'score'.\n",
        "score = score + 50 # now score is 50 .0 +50\n",
        "# Print the updated value of 'score'.\n",
        "print(score)\n",
        "# Add 50 to the current value of 'score' using the shorthand += operator and reassign it to 'score'.\n",
        "score += 50 # now score is 100 .50 +50\n",
        "# Print the updated value of 'score'.\n",
        "print(score)\n",
        "# Declare a variable 'my_score' and assign it the value 450.\n",
        "my_score = 450\n",
        "# Subtract 50 from the current value of 'my_score' using the shorthand -= operator and reassign it to 'my_score'.\n",
        "my_score -= 50 # now score is 400 .450 -50\n",
        "# Print the updated value of 'my_score'.\n",
        "print(my_score)\n",
        "\n",
        "\n",
        "# Multiply the current value of 'my_score' by 2 using the shorthand *= operator and reassign it to 'my_score'.\n",
        "my_score *= 2 # now score is 800 .450 *2\n",
        "# Print the updated value of 'my_score'.\n",
        "print(my_score)\n",
        "\n",
        "# Calculate 49 divided by 7.\n",
        "print(49/7)\n",
        "# Assign the result of 49 divided by 7 to the variable 'dog_age'.\n",
        "dog_age =49/7\n",
        "# Print the value of 'dog_age' using an f-string.\n",
        "print(f\"\"\" Dog age in human years is {dog_age}\n",
        " would be same age {dog_age}   \"\"\")\n"
      ],
      "metadata": {
        "colab": {
          "base_uri": "https://localhost:8080/",
          "height": 106
        },
        "id": "Xit6Vxih7MUf",
        "outputId": "57b240fb-8cbe-4dc7-bd3b-55c308c8738d"
      },
      "execution_count": null,
      "outputs": [
        {
          "output_type": "error",
          "ename": "SyntaxError",
          "evalue": "invalid syntax (<ipython-input-28-8cb10230ed56>, line 1)",
          "traceback": [
            "\u001b[0;36m  File \u001b[0;32m\"<ipython-input-28-8cb10230ed56>\"\u001b[0;36m, line \u001b[0;32m1\u001b[0m\n\u001b[0;31m    add comments above cells individually\u001b[0m\n\u001b[0m        ^\u001b[0m\n\u001b[0;31mSyntaxError\u001b[0m\u001b[0;31m:\u001b[0m invalid syntax\n"
          ]
        }
      ]
    },
    {
      "cell_type": "code",
      "source": [],
      "metadata": {
        "id": "dDsEPlMC8qs4"
      },
      "execution_count": null,
      "outputs": []
    },
    {
      "cell_type": "code",
      "source": [],
      "metadata": {
        "id": "iahsoAUJ8rYM"
      },
      "execution_count": null,
      "outputs": []
    },
    {
      "cell_type": "code",
      "source": [
        "my_name: str  =\"Zubair khan\"\n",
        "print(f\" Hello {my_name}\")\n",
        "type(my_name)\n",
        "my_name = 23\n",
        "print(my_name)"
      ],
      "metadata": {
        "colab": {
          "base_uri": "https://localhost:8080/"
        },
        "id": "tX7MYfIM8GDB",
        "outputId": "c5420c8b-120f-413e-d615-f318e2a1d33f"
      },
      "execution_count": 31,
      "outputs": [
        {
          "output_type": "stream",
          "name": "stdout",
          "text": [
            " Hello Zubair khan\n",
            "23\n"
          ]
        }
      ]
    },
    {
      "cell_type": "code",
      "source": [],
      "metadata": {
        "id": "2zbxZqUf81we"
      },
      "execution_count": null,
      "outputs": []
    }
  ]
}